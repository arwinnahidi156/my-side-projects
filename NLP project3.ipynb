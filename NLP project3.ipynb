{
 "cells": [
  {
   "cell_type": "code",
   "execution_count": 4,
   "id": "99918c70",
   "metadata": {},
   "outputs": [],
   "source": [
    "import pandas as pd\n",
    "import numpy as np\n",
    "import matplotlib.pyplot as plt\n",
    "import seaborn as sns\n",
    "%matplotlib inline"
   ]
  },
  {
   "cell_type": "code",
   "execution_count": 30,
   "id": "2fc26b5f",
   "metadata": {},
   "outputs": [],
   "source": [
    "TOKEN_SPAM_PROB='../jupyter/environment/SpamData/04/prob-spam.txt'\n",
    "TOKEN_HAM_PROB='../jupyter/environment/SpamData/04/prob-nonspam.txt'\n",
    "TOKEN_TOTAL_PROB='../jupyter/environment/SpamData/04/prob-all-tokens.txt'\n",
    "TEST_FEATURE_MATRIX='../jupyter/environment/SpamData/04/test-features.txt'\n",
    "TEST_TARGET_FILE='../jupyter/environment/SpamData/04/test-target.txt'\n",
    "\n",
    "VOCAB_SIZE=2500\n",
    "PROB_SPAM=0.31"
   ]
  },
  {
   "cell_type": "code",
   "execution_count": 26,
   "id": "33a7647f",
   "metadata": {},
   "outputs": [],
   "source": [
    "X_test=np.loadtxt(TEST_FEATURE_MATRIX,delimiter=' ')\n",
    "y_test=np.loadtxt(TEST_TARGET_FILE, delimiter=' ')\n",
    "spam_probs=np.loadtxt(TOKEN_SPAM_PROB, delimiter=' ')\n",
    "ham_probs=np.loadtxt(TOKEN_HAM_PROB, delimiter=' ')\n",
    "total_probs=np.loadtxt(TOKEN_TOTAL_PROB, delimiter=' ')\n"
   ]
  },
  {
   "cell_type": "code",
   "execution_count": 27,
   "id": "1d7a291d",
   "metadata": {},
   "outputs": [
    {
     "data": {
      "text/plain": [
       "(1723, 2500)"
      ]
     },
     "execution_count": 27,
     "metadata": {},
     "output_type": "execute_result"
    }
   ],
   "source": [
    "X_test.shape"
   ]
  },
  {
   "cell_type": "code",
   "execution_count": 28,
   "id": "3e0b2ab7",
   "metadata": {},
   "outputs": [
    {
     "data": {
      "text/plain": [
       "(2500,)"
      ]
     },
     "execution_count": 28,
     "metadata": {},
     "output_type": "execute_result"
    }
   ],
   "source": [
    "spam_probs.shape"
   ]
  },
  {
   "cell_type": "code",
   "execution_count": 31,
   "id": "25f177ca",
   "metadata": {},
   "outputs": [],
   "source": [
    "# prob_token_on_spam=np.dot(X_test,spam_probs)"
   ]
  },
  {
   "cell_type": "code",
   "execution_count": 33,
   "id": "85a4739d",
   "metadata": {},
   "outputs": [
    {
     "data": {
      "text/plain": [
       "array([-3.14844074, -1.76235217, -1.72303308, ..., -2.88630262,\n",
       "       -3.47378175, -3.54512617])"
      ]
     },
     "execution_count": 33,
     "metadata": {},
     "output_type": "execute_result"
    }
   ],
   "source": [
    "np.log(prob_token_on_spam)"
   ]
  },
  {
   "cell_type": "code",
   "execution_count": 34,
   "id": "de65e6a8",
   "metadata": {},
   "outputs": [
    {
     "data": {
      "text/plain": [
       "array([ -4.70632085,  -5.32161816,  -4.98677062, ...,  -9.20111798,\n",
       "        -8.70034269, -10.40509078])"
      ]
     },
     "execution_count": 34,
     "metadata": {},
     "output_type": "execute_result"
    }
   ],
   "source": [
    "np.log(spam_probs)"
   ]
  },
  {
   "cell_type": "code",
   "execution_count": 42,
   "id": "456b38f8",
   "metadata": {},
   "outputs": [],
   "source": [
    "joint_log_spam=np.dot(X_test,np.log(spam_probs)-np.log(total_probs))+np.log(PROB_SPAM)"
   ]
  },
  {
   "cell_type": "code",
   "execution_count": 43,
   "id": "9c8ddc3e",
   "metadata": {},
   "outputs": [
    {
     "data": {
      "text/plain": [
       "array([  3.21129124,  13.37520467,  19.20154172, ..., -31.37902251,\n",
       "        -4.79449793, -17.04030295])"
      ]
     },
     "execution_count": 43,
     "metadata": {},
     "output_type": "execute_result"
    }
   ],
   "source": [
    "joint_log_spam"
   ]
  },
  {
   "cell_type": "code",
   "execution_count": 44,
   "id": "78d2dd53",
   "metadata": {},
   "outputs": [],
   "source": [
    "joint_log_ham=np.dot(X_test,np.log(ham_probs)-np.log(total_probs))+np.log(1-PROB_SPAM)"
   ]
  },
  {
   "cell_type": "code",
   "execution_count": 49,
   "id": "dded3577",
   "metadata": {},
   "outputs": [
    {
     "data": {
      "text/plain": [
       "(1723,)"
      ]
     },
     "execution_count": 49,
     "metadata": {},
     "output_type": "execute_result"
    }
   ],
   "source": [
    "joint_log_ham.shape"
   ]
  },
  {
   "cell_type": "code",
   "execution_count": 46,
   "id": "0af5e6cb",
   "metadata": {},
   "outputs": [
    {
     "data": {
      "text/plain": [
       "(1723, 2500)"
      ]
     },
     "execution_count": 46,
     "metadata": {},
     "output_type": "execute_result"
    }
   ],
   "source": [
    "X_test.shape"
   ]
  },
  {
   "cell_type": "code",
   "execution_count": 48,
   "id": "c6ddaa33",
   "metadata": {},
   "outputs": [
    {
     "data": {
      "text/plain": [
       "(2500,)"
      ]
     },
     "execution_count": 48,
     "metadata": {},
     "output_type": "execute_result"
    }
   ],
   "source": [
    "spam_probs.shape"
   ]
  },
  {
   "cell_type": "code",
   "execution_count": 52,
   "id": "3cf25573",
   "metadata": {},
   "outputs": [],
   "source": [
    "preds=[]\n",
    "for i in range(X_test.shape[0]):\n",
    "    if joint_log_spam[i]>joint_log_ham[i]:\n",
    "        preds.append(1)\n",
    "    else:\n",
    "        preds.append(0)"
   ]
  },
  {
   "cell_type": "code",
   "execution_count": 56,
   "id": "624152fc",
   "metadata": {},
   "outputs": [],
   "source": [
    "yHat=pd.DataFrame(preds,index=range(X_test.shape[0]))"
   ]
  },
  {
   "cell_type": "code",
   "execution_count": 59,
   "id": "3babcad9",
   "metadata": {},
   "outputs": [],
   "source": [
    "yHat.rename({0:'preds'},axis=1,inplace=True)"
   ]
  },
  {
   "cell_type": "code",
   "execution_count": 60,
   "id": "7c5511ed",
   "metadata": {},
   "outputs": [],
   "source": [
    "yHat.index.name='doc_id'"
   ]
  },
  {
   "cell_type": "code",
   "execution_count": 62,
   "id": "9c066aae",
   "metadata": {},
   "outputs": [
    {
     "data": {
      "text/plain": [
       "preds\n",
       "0    1163\n",
       "1     560\n",
       "Name: count, dtype: int64"
      ]
     },
     "execution_count": 62,
     "metadata": {},
     "output_type": "execute_result"
    }
   ],
   "source": [
    "yHat.preds.value_counts()"
   ]
  },
  {
   "cell_type": "code",
   "execution_count": 63,
   "id": "9ee05338",
   "metadata": {},
   "outputs": [],
   "source": [
    "import sklearn"
   ]
  },
  {
   "cell_type": "code",
   "execution_count": 68,
   "id": "b5272edb",
   "metadata": {},
   "outputs": [],
   "source": [
    "from sklearn.metrics import classification_report,confusion_matrix,ConfusionMatrixDisplay"
   ]
  },
  {
   "cell_type": "code",
   "execution_count": 66,
   "id": "294a571a",
   "metadata": {},
   "outputs": [
    {
     "name": "stdout",
     "output_type": "stream",
     "text": [
      "              precision    recall  f1-score   support\n",
      "\n",
      "         0.0       0.97      0.99      0.98      1135\n",
      "         1.0       0.98      0.93      0.95       588\n",
      "\n",
      "    accuracy                           0.97      1723\n",
      "   macro avg       0.97      0.96      0.97      1723\n",
      "weighted avg       0.97      0.97      0.97      1723\n",
      "\n"
     ]
    }
   ],
   "source": [
    "print(classification_report(y_test,yHat))"
   ]
  },
  {
   "cell_type": "code",
   "execution_count": 67,
   "id": "7489dbaf",
   "metadata": {},
   "outputs": [],
   "source": [
    "cm=confusion_matrix(y_test,yHat)"
   ]
  },
  {
   "cell_type": "code",
   "execution_count": 69,
   "id": "000884be",
   "metadata": {},
   "outputs": [
    {
     "data": {
      "text/plain": [
       "<sklearn.metrics._plot.confusion_matrix.ConfusionMatrixDisplay at 0x7fd2eb2ed2d0>"
      ]
     },
     "execution_count": 69,
     "metadata": {},
     "output_type": "execute_result"
    },
    {
     "data": {
      "image/png": "[encoded data removed]",
      "text/plain": [
       "<Figure size 640x480 with 2 Axes>"
      ]
     },
     "metadata": {},
     "output_type": "display_data"
    }
   ],
   "source": [
    "ConfusionMatrixDisplay(cm).plot()"
   ]
  },
  {
   "cell_type": "code",
   "execution_count": 89,
   "id": "938a6ce8",
   "metadata": {},
   "outputs": [
    {
     "data": {
      "text/html": [
       "<div>\n",
       "<style scoped>\n",
       "    .dataframe tbody tr th:only-of-type {\n",
       "        vertical-align: middle;\n",
       "    }\n",
       "\n",
       "    .dataframe tbody tr th {\n",
       "        vertical-align: top;\n",
       "    }\n",
       "\n",
       "    .dataframe thead th {\n",
       "        text-align: right;\n",
       "    }\n",
       "</style>\n",
       "<table border=\"1\" class=\"dataframe\">\n",
       "  <thead>\n",
       "    <tr style=\"text-align: right;\">\n",
       "      <th></th>\n",
       "      <th>preds</th>\n",
       "    </tr>\n",
       "    <tr>\n",
       "      <th>doc_id</th>\n",
       "      <th></th>\n",
       "    </tr>\n",
       "  </thead>\n",
       "  <tbody>\n",
       "    <tr>\n",
       "      <th>0</th>\n",
       "      <td>1</td>\n",
       "    </tr>\n",
       "    <tr>\n",
       "      <th>1</th>\n",
       "      <td>1</td>\n",
       "    </tr>\n",
       "    <tr>\n",
       "      <th>2</th>\n",
       "      <td>1</td>\n",
       "    </tr>\n",
       "    <tr>\n",
       "      <th>3</th>\n",
       "      <td>0</td>\n",
       "    </tr>\n",
       "    <tr>\n",
       "      <th>4</th>\n",
       "      <td>1</td>\n",
       "    </tr>\n",
       "    <tr>\n",
       "      <th>...</th>\n",
       "      <td>...</td>\n",
       "    </tr>\n",
       "    <tr>\n",
       "      <th>1718</th>\n",
       "      <td>0</td>\n",
       "    </tr>\n",
       "    <tr>\n",
       "      <th>1719</th>\n",
       "      <td>0</td>\n",
       "    </tr>\n",
       "    <tr>\n",
       "      <th>1720</th>\n",
       "      <td>0</td>\n",
       "    </tr>\n",
       "    <tr>\n",
       "      <th>1721</th>\n",
       "      <td>0</td>\n",
       "    </tr>\n",
       "    <tr>\n",
       "      <th>1722</th>\n",
       "      <td>0</td>\n",
       "    </tr>\n",
       "  </tbody>\n",
       "</table>\n",
       "<p>1723 rows × 1 columns</p>\n",
       "</div>"
      ],
      "text/plain": [
       "        preds\n",
       "doc_id       \n",
       "0           1\n",
       "1           1\n",
       "2           1\n",
       "3           0\n",
       "4           1\n",
       "...       ...\n",
       "1718        0\n",
       "1719        0\n",
       "1720        0\n",
       "1721        0\n",
       "1722        0\n",
       "\n",
       "[1723 rows x 1 columns]"
      ]
     },
     "execution_count": 89,
     "metadata": {},
     "output_type": "execute_result"
    }
   ],
   "source": [
    "yHat.drop('spam_prob',axis=1)"
   ]
  },
  {
   "cell_type": "code",
   "execution_count": null,
   "id": "ab2e4249",
   "metadata": {},
   "outputs": [],
   "source": [
    "\n"
   ]
  },
  {
   "cell_type": "code",
   "execution_count": null,
   "id": "76ee78c7",
   "metadata": {},
   "outputs": [],
   "source": []
  }
 ],
 "metadata": {
  "kernelspec": {
   "display_name": "Python 3 (ipykernel)",
   "language": "python",
   "name": "python3"
  },
  "language_info": {
   "codemirror_mode": {
    "name": "ipython",
    "version": 3
   },
   "file_extension": ".py",
   "mimetype": "text/x-python",
   "name": "python",
   "nbconvert_exporter": "python",
   "pygments_lexer": "ipython3",
   "version": "3.10.6"
  }
 },
 "nbformat": 4,
 "nbformat_minor": 5
}
